{
 "cells": [
  {
   "cell_type": "markdown",
   "id": "6d565474",
   "metadata": {},
   "source": [
    "q2. You are given two non-empty linked lists representing two non-negative integers. The digits are stored in reverse order, and each of their nodes contains a single digit. Add the two numbers and return the sum as a linked list.\n",
    "\n",
    "You may assume the two numbers do not contain any leading zero, except the number 0 itself.\n",
    "\n",
    "\n",
    "Example 1:\n",
    "\n",
    "Input: l1 = [2,4,3], l2 = [5,6,4] Output: [7,0,8] Explanation: 342 + 465 = 807.\n",
    "\n",
    "Example 2:\n",
    "\n",
    "Input: l1 = [0], l2 = [0] Output: [0]\n",
    "\n",
    "Example 3:\n",
    "\n",
    "Input: l1 = [9,9,9,9,9,9,9], l2 = [9,9,9,9] Output: [8,9,9,9,0,0,0,1]\n",
    "\n",
    " \n",
    "\n",
    "Constraints:\n",
    "\n",
    "The number of nodes in each linked list is in the range [1, 100].\n",
    "0 <= Node.val <= 9 It is guaranteed that the list represents a number that does not have leading zeros."
   ]
  },
  {
   "cell_type": "markdown",
   "id": "6d2728a6",
   "metadata": {},
   "source": [
    "ans-  To add two numbers represented as linked lists, we can perform a digit-by-digit addition, taking care of carrying over the value to the next digit. Here's an implementation in Python:\n"
   ]
  },
  {
   "cell_type": "code",
   "execution_count": 1,
   "id": "be17dfb2",
   "metadata": {},
   "outputs": [],
   "source": [
    "class ListNode:\n",
    "    def __init__(self, val=0, next=None):\n",
    "        self.val = val\n",
    "        self.next = next\n",
    "\n",
    "\n",
    "def addTwoNumbers(l1, l2):\n",
    "    dummy = ListNode(0)\n",
    "    current = dummy\n",
    "    carry = 0\n",
    "\n",
    "    while l1 or l2 or carry:\n",
    "        value = carry\n",
    "\n",
    "        if l1:\n",
    "            value += l1.val\n",
    "            l1 = l1.next\n",
    "        if l2:\n",
    "            value += l2.val\n",
    "            l2 = l2.next\n",
    "\n",
    "        carry = value // 10\n",
    "        value = value % 10\n",
    "\n",
    "        current.next = ListNode(value)\n",
    "        current = current.next\n",
    "\n",
    "    return dummy.next\n"
   ]
  },
  {
   "cell_type": "markdown",
   "id": "db6a1432",
   "metadata": {},
   "source": [
    "In this implementation, we initialize a dummy node and a current node to build the resulting linked list. We also initialize a carry variable to keep track of the value carried over from the previous digit addition.\n",
    "\n",
    "We iterate over the linked lists l1 and l2 as long as either of them exists or there is a carry value. In each iteration, we add the values from l1, l2, and the carry, and update the carry and value variables accordingly.\n",
    "\n",
    "The carry value is calculated as the integer division of the sum by 10, and the value for the current digit is the remainder after the division.\n",
    "\n",
    "We then create a new node with the value and link it to the current node. Finally, we move the current node to the next position.\n",
    "\n",
    "After the loop ends, we return the next of the dummy node, which will be the head of the resulting linked list.\n",
    "\n",
    "Example usage:"
   ]
  },
  {
   "cell_type": "code",
   "execution_count": 2,
   "id": "9c1e505a",
   "metadata": {},
   "outputs": [],
   "source": [
    "l1 = ListNode(2)\n",
    "l1.next = ListNode(4)\n",
    "l1.next.next = ListNode(3)\n",
    "\n",
    "l2 = ListNode(5)\n",
    "l2.next = ListNode(6)\n",
    "l2.next.next = ListNode(4)\n",
    "\n",
    "result = addTwoNumbers(l1, l2)\n"
   ]
  },
  {
   "cell_type": "markdown",
   "id": "faa650db",
   "metadata": {},
   "source": [
    "In the example above, l1 represents the number 342 in reverse order, and l2 represents the number 465 in reverse order. The resulting linked list result will represent the sum of the numbers, which is 807 in reverse order.\n",
    "\n",
    "Similarly, you can try the other provided examples and test cases to verify the correctness of the implementation."
   ]
  }
 ],
 "metadata": {
  "kernelspec": {
   "display_name": "Python 3 (ipykernel)",
   "language": "python",
   "name": "python3"
  },
  "language_info": {
   "codemirror_mode": {
    "name": "ipython",
    "version": 3
   },
   "file_extension": ".py",
   "mimetype": "text/x-python",
   "name": "python",
   "nbconvert_exporter": "python",
   "pygments_lexer": "ipython3",
   "version": "3.9.12"
  }
 },
 "nbformat": 4,
 "nbformat_minor": 5
}
